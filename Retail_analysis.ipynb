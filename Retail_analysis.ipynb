{
 "cells": [
  {
   "cell_type": "markdown",
   "metadata": {},
   "source": [
    "# Load the datasets"
   ]
  },
  {
   "cell_type": "code",
   "execution_count": 21,
   "metadata": {},
   "outputs": [
    {
     "name": "stdout",
     "output_type": "stream",
     "text": [
      "Sales Data:\n"
     ]
    },
    {
     "data": {
      "text/html": [
       "<div>\n",
       "<style scoped>\n",
       "    .dataframe tbody tr th:only-of-type {\n",
       "        vertical-align: middle;\n",
       "    }\n",
       "\n",
       "    .dataframe tbody tr th {\n",
       "        vertical-align: top;\n",
       "    }\n",
       "\n",
       "    .dataframe thead th {\n",
       "        text-align: right;\n",
       "    }\n",
       "</style>\n",
       "<table border=\"1\" class=\"dataframe\">\n",
       "  <thead>\n",
       "    <tr style=\"text-align: right;\">\n",
       "      <th></th>\n",
       "      <th>Order ID</th>\n",
       "      <th>Order Date</th>\n",
       "      <th>Order Mode</th>\n",
       "      <th>Customer ID</th>\n",
       "      <th>City</th>\n",
       "      <th>Postal Code</th>\n",
       "      <th>Country</th>\n",
       "      <th>Region</th>\n",
       "      <th>Product ID</th>\n",
       "      <th>Product Name</th>\n",
       "      <th>Category</th>\n",
       "      <th>Sub-Category</th>\n",
       "      <th>Sales</th>\n",
       "      <th>Cost Price</th>\n",
       "      <th>Quantity</th>\n",
       "      <th>Discount</th>\n",
       "    </tr>\n",
       "  </thead>\n",
       "  <tbody>\n",
       "    <tr>\n",
       "      <th>0</th>\n",
       "      <td>BTC-245712</td>\n",
       "      <td>6/22/2024</td>\n",
       "      <td>Online</td>\n",
       "      <td>LO028977</td>\n",
       "      <td>Norton</td>\n",
       "      <td>S8</td>\n",
       "      <td>England</td>\n",
       "      <td>NaN</td>\n",
       "      <td>01JZ3N512GHNAJSF3HCCQ0PQYY</td>\n",
       "      <td>Flavored Popcorn Mix</td>\n",
       "      <td>Food - Snacks</td>\n",
       "      <td>Gourmet Snacks</td>\n",
       "      <td>2.99</td>\n",
       "      <td>0.897</td>\n",
       "      <td>4</td>\n",
       "      <td>0.24</td>\n",
       "    </tr>\n",
       "    <tr>\n",
       "      <th>1</th>\n",
       "      <td>NZR-891212</td>\n",
       "      <td>3/15/2024</td>\n",
       "      <td>In-Store</td>\n",
       "      <td>OH046670</td>\n",
       "      <td>West End</td>\n",
       "      <td>DN36</td>\n",
       "      <td>England</td>\n",
       "      <td>East of England</td>\n",
       "      <td>01JZ3N56DDVK7Y600QGH2M6T1X</td>\n",
       "      <td>Olive Oil</td>\n",
       "      <td>Food - Condiments</td>\n",
       "      <td>Cooking Oils</td>\n",
       "      <td>7.99</td>\n",
       "      <td>2.397</td>\n",
       "      <td>16</td>\n",
       "      <td>0.32</td>\n",
       "    </tr>\n",
       "    <tr>\n",
       "      <th>2</th>\n",
       "      <td>TDN-811093</td>\n",
       "      <td>2/29/2024</td>\n",
       "      <td>Online</td>\n",
       "      <td>FH015492</td>\n",
       "      <td>Newtown</td>\n",
       "      <td>RG20</td>\n",
       "      <td>England</td>\n",
       "      <td>East Midlands</td>\n",
       "      <td>01JZ3N53A64TW72TVK28SMMXKX</td>\n",
       "      <td>Children's Backpack</td>\n",
       "      <td>Accessories</td>\n",
       "      <td>Kids' Bags</td>\n",
       "      <td>29.99</td>\n",
       "      <td>8.997</td>\n",
       "      <td>2</td>\n",
       "      <td>0.09</td>\n",
       "    </tr>\n",
       "    <tr>\n",
       "      <th>3</th>\n",
       "      <td>MIX-746378</td>\n",
       "      <td>10/25/2024</td>\n",
       "      <td>In-Store</td>\n",
       "      <td>ZZ015342</td>\n",
       "      <td>East End</td>\n",
       "      <td>BH21</td>\n",
       "      <td>England</td>\n",
       "      <td>North West</td>\n",
       "      <td>01JZ3N572S4RVA29Y33YRWH174</td>\n",
       "      <td>Honey Butter Popcorn</td>\n",
       "      <td>Food - Snacks</td>\n",
       "      <td>Gourmet Snacks</td>\n",
       "      <td>2.99</td>\n",
       "      <td>0.897</td>\n",
       "      <td>4</td>\n",
       "      <td>0.01</td>\n",
       "    </tr>\n",
       "    <tr>\n",
       "      <th>4</th>\n",
       "      <td>UGI-201465</td>\n",
       "      <td>8/18/2024</td>\n",
       "      <td>Online</td>\n",
       "      <td>TV075977</td>\n",
       "      <td>Seaton</td>\n",
       "      <td>LE15</td>\n",
       "      <td>England</td>\n",
       "      <td>East Midlands</td>\n",
       "      <td>01JZ3N52RT7CJNB27BFS6H8BF7</td>\n",
       "      <td>Sliced Cucumbers</td>\n",
       "      <td>Food - Produce</td>\n",
       "      <td>Fresh Cut Vegetables</td>\n",
       "      <td>1.29</td>\n",
       "      <td>0.387</td>\n",
       "      <td>11</td>\n",
       "      <td>0.34</td>\n",
       "    </tr>\n",
       "  </tbody>\n",
       "</table>\n",
       "</div>"
      ],
      "text/plain": [
       "     Order ID  Order Date Order Mode Customer ID      City Postal Code  \\\n",
       "0  BTC-245712   6/22/2024     Online    LO028977    Norton          S8   \n",
       "1  NZR-891212   3/15/2024   In-Store    OH046670  West End        DN36   \n",
       "2  TDN-811093   2/29/2024     Online    FH015492   Newtown        RG20   \n",
       "3  MIX-746378  10/25/2024   In-Store    ZZ015342  East End        BH21   \n",
       "4  UGI-201465   8/18/2024     Online    TV075977    Seaton        LE15   \n",
       "\n",
       "   Country           Region                  Product ID          Product Name  \\\n",
       "0  England              NaN  01JZ3N512GHNAJSF3HCCQ0PQYY  Flavored Popcorn Mix   \n",
       "1  England  East of England  01JZ3N56DDVK7Y600QGH2M6T1X             Olive Oil   \n",
       "2  England    East Midlands  01JZ3N53A64TW72TVK28SMMXKX   Children's Backpack   \n",
       "3  England       North West  01JZ3N572S4RVA29Y33YRWH174  Honey Butter Popcorn   \n",
       "4  England    East Midlands  01JZ3N52RT7CJNB27BFS6H8BF7      Sliced Cucumbers   \n",
       "\n",
       "            Category          Sub-Category  Sales  Cost Price  Quantity  \\\n",
       "0      Food - Snacks        Gourmet Snacks   2.99       0.897         4   \n",
       "1  Food - Condiments          Cooking Oils   7.99       2.397        16   \n",
       "2        Accessories            Kids' Bags  29.99       8.997         2   \n",
       "3      Food - Snacks        Gourmet Snacks   2.99       0.897         4   \n",
       "4     Food - Produce  Fresh Cut Vegetables   1.29       0.387        11   \n",
       "\n",
       "   Discount  \n",
       "0      0.24  \n",
       "1      0.32  \n",
       "2      0.09  \n",
       "3      0.01  \n",
       "4      0.34  "
      ]
     },
     "metadata": {},
     "output_type": "display_data"
    },
    {
     "name": "stdout",
     "output_type": "stream",
     "text": [
      "\n",
      "Store Locations:\n"
     ]
    },
    {
     "data": {
      "text/html": [
       "<div>\n",
       "<style scoped>\n",
       "    .dataframe tbody tr th:only-of-type {\n",
       "        vertical-align: middle;\n",
       "    }\n",
       "\n",
       "    .dataframe tbody tr th {\n",
       "        vertical-align: top;\n",
       "    }\n",
       "\n",
       "    .dataframe thead th {\n",
       "        text-align: right;\n",
       "    }\n",
       "</style>\n",
       "<table border=\"1\" class=\"dataframe\">\n",
       "  <thead>\n",
       "    <tr style=\"text-align: right;\">\n",
       "      <th></th>\n",
       "      <th>City</th>\n",
       "      <th>Postal Code</th>\n",
       "      <th>Country</th>\n",
       "      <th>Region</th>\n",
       "    </tr>\n",
       "  </thead>\n",
       "  <tbody>\n",
       "    <tr>\n",
       "      <th>0</th>\n",
       "      <td>Birmingham</td>\n",
       "      <td>B12</td>\n",
       "      <td>England</td>\n",
       "      <td>West Midlands</td>\n",
       "    </tr>\n",
       "    <tr>\n",
       "      <th>1</th>\n",
       "      <td>Birmingham</td>\n",
       "      <td>B40</td>\n",
       "      <td>England</td>\n",
       "      <td>West Midlands</td>\n",
       "    </tr>\n",
       "    <tr>\n",
       "      <th>2</th>\n",
       "      <td>Thorpe</td>\n",
       "      <td>BD23</td>\n",
       "      <td>England</td>\n",
       "      <td>Yorkshire &amp; the Humber</td>\n",
       "    </tr>\n",
       "    <tr>\n",
       "      <th>3</th>\n",
       "      <td>Bradford</td>\n",
       "      <td>BD7</td>\n",
       "      <td>England</td>\n",
       "      <td>Yorkshire &amp; the Humber</td>\n",
       "    </tr>\n",
       "    <tr>\n",
       "      <th>4</th>\n",
       "      <td>East End</td>\n",
       "      <td>BH21</td>\n",
       "      <td>England</td>\n",
       "      <td>North West</td>\n",
       "    </tr>\n",
       "  </tbody>\n",
       "</table>\n",
       "</div>"
      ],
      "text/plain": [
       "         City Postal Code  Country                  Region\n",
       "0  Birmingham         B12  England           West Midlands\n",
       "1  Birmingham         B40  England           West Midlands\n",
       "2      Thorpe        BD23  England  Yorkshire & the Humber\n",
       "3    Bradford         BD7  England  Yorkshire & the Humber\n",
       "4    East End        BH21  England              North West"
      ]
     },
     "metadata": {},
     "output_type": "display_data"
    }
   ],
   "source": [
    "import pandas as pd\n",
    "\n",
    "# Load  sales dataset\n",
    "sales_data = pd.read_excel(\"Ace Superstore Retail Dataset.xlsx\", sheet_name=\"in\")\n",
    "\n",
    "# Load store location\n",
    "store_locations = pd.read_excel(\"Store Locations.xlsx\", sheet_name=\"Store Locations\")\n",
    "\n",
    "print(\"Sales Data:\")\n",
    "display(sales_data.head())\n",
    "\n",
    "print(\"\\nStore Locations:\")\n",
    "display(store_locations.head())\n"
   ]
  },
  {
   "cell_type": "markdown",
   "metadata": {},
   "source": [
    "# Explore sales data structure"
   ]
  },
  {
   "cell_type": "code",
   "execution_count": 22,
   "metadata": {},
   "outputs": [
    {
     "name": "stdout",
     "output_type": "stream",
     "text": [
      "Sales Dataset Info:\n",
      "<class 'pandas.core.frame.DataFrame'>\n",
      "RangeIndex: 11000 entries, 0 to 10999\n",
      "Data columns (total 16 columns):\n",
      " #   Column        Non-Null Count  Dtype  \n",
      "---  ------        --------------  -----  \n",
      " 0   Order ID      11000 non-null  object \n",
      " 1   Order Date    11000 non-null  object \n",
      " 2   Order Mode    11000 non-null  object \n",
      " 3   Customer ID   11000 non-null  object \n",
      " 4   City          11000 non-null  object \n",
      " 5   Postal Code   11000 non-null  object \n",
      " 6   Country       10780 non-null  object \n",
      " 7   Region        8189 non-null   object \n",
      " 8   Product ID    11000 non-null  object \n",
      " 9   Product Name  11000 non-null  object \n",
      " 10  Category      10802 non-null  object \n",
      " 11  Sub-Category  11000 non-null  object \n",
      " 12  Sales         11000 non-null  float64\n",
      " 13  Cost Price    11000 non-null  float64\n",
      " 14  Quantity      11000 non-null  int64  \n",
      " 15  Discount      10027 non-null  float64\n",
      "dtypes: float64(3), int64(1), object(12)\n",
      "memory usage: 1.3+ MB\n",
      "\n",
      "Store Locations Info:\n",
      "<class 'pandas.core.frame.DataFrame'>\n",
      "RangeIndex: 72 entries, 0 to 71\n",
      "Data columns (total 4 columns):\n",
      " #   Column       Non-Null Count  Dtype \n",
      "---  ------       --------------  ----- \n",
      " 0   City         72 non-null     object\n",
      " 1   Postal Code  72 non-null     object\n",
      " 2   Country      72 non-null     object\n",
      " 3   Region       72 non-null     object\n",
      "dtypes: object(4)\n",
      "memory usage: 2.4+ KB\n",
      "\n",
      "Missing values in sales_data:\n",
      "Order ID           0\n",
      "Order Date         0\n",
      "Order Mode         0\n",
      "Customer ID        0\n",
      "City               0\n",
      "Postal Code        0\n",
      "Country          220\n",
      "Region          2811\n",
      "Product ID         0\n",
      "Product Name       0\n",
      "Category         198\n",
      "Sub-Category       0\n",
      "Sales              0\n",
      "Cost Price         0\n",
      "Quantity           0\n",
      "Discount         973\n",
      "dtype: int64\n",
      "\n",
      "Missing values in store_locations:\n",
      "City           0\n",
      "Postal Code    0\n",
      "Country        0\n",
      "Region         0\n",
      "dtype: int64\n"
     ]
    }
   ],
   "source": [
    "print(\"Sales Dataset Info:\")\n",
    "sales_data.info()\n",
    "\n",
    "print(\"\\nStore Locations Info:\")\n",
    "store_locations.info()\n",
    "\n",
    "# Missing values in each column\n",
    "print(\"\\nMissing values in sales_data:\")\n",
    "print(sales_data.isnull().sum())\n",
    "\n",
    "print(\"\\nMissing values in store_locations:\")\n",
    "print(store_locations.isnull().sum())"
   ]
  },
  {
   "cell_type": "markdown",
   "metadata": {},
   "source": [
    "# Fill missing Country and Region using Postal Code from store_locations\n"
   ]
  },
  {
   "cell_type": "code",
   "execution_count": 23,
   "metadata": {},
   "outputs": [
    {
     "name": "stdout",
     "output_type": "stream",
     "text": [
      "Missing values AFTER filling Region and Country:\n",
      "Country    0\n",
      "Region     0\n",
      "dtype: int64\n"
     ]
    }
   ],
   "source": [
    "sales_data['Postal Code'] = sales_data['Postal Code'].astype(str)\n",
    "store_locations['Postal Code'] = store_locations['Postal Code'].astype(str)\n",
    "\n",
    "# Merge to get Region and Country from store_locations\n",
    "sales_data = sales_data.merge(\n",
    "    store_locations[['Postal Code', 'Region', 'Country']],\n",
    "    on='Postal Code',\n",
    "    how='left',\n",
    "    suffixes=('', '_store')\n",
    ")\n",
    "\n",
    "# Fill missing Country and Region in sales_data using the 'store' values\n",
    "sales_data['Country'] = sales_data['Country'].fillna(sales_data['Country_store'])\n",
    "sales_data['Region'] = sales_data['Region'].fillna(sales_data['Region_store'])\n",
    "\n",
    "# Drop columns\n",
    "sales_data.drop(columns=['Country_store', 'Region_store'], inplace=True)\n",
    "\n",
    "# Rechecking missing values\n",
    "print(\"Missing values AFTER filling Region and Country:\")\n",
    "print(sales_data[['Country', 'Region']].isnull().sum())\n"
   ]
  },
  {
   "cell_type": "markdown",
   "metadata": {},
   "source": [
    "# Fill missing Category based on Sub-Category"
   ]
  },
  {
   "cell_type": "code",
   "execution_count": 24,
   "metadata": {},
   "outputs": [
    {
     "name": "stdout",
     "output_type": "stream",
     "text": [
      "Missing Category values AFTER mapping: 31\n"
     ]
    }
   ],
   "source": [
    "# sub-category : category maps from rows that have both values\n",
    "subcategory_to_category = sales_data[sales_data['Category'].notnull()].groupby('Sub-Category')['Category'].agg(lambda x: x.mode()[0])\n",
    "\n",
    "# Fills missing categories using this map\n",
    "sales_data['Category'] = sales_data.apply(\n",
    "    lambda row: subcategory_to_category[row['Sub-Category']] if pd.isna(row['Category']) and row['Sub-Category'] in subcategory_to_category else row['Category'],\n",
    "    axis=1\n",
    ")\n",
    "\n",
    "# missing Category values\n",
    "print(\"Missing Category values AFTER mapping:\", sales_data['Category'].isnull().sum())\n"
   ]
  },
  {
   "cell_type": "code",
   "execution_count": 25,
   "metadata": {},
   "outputs": [
    {
     "name": "stdout",
     "output_type": "stream",
     "text": [
      "Sub-Categories that still have missing Category values:\n",
      "['Seasoning Mixes' 'Dog Supplies' 'Audio Recording Devices' 'Seeds & Nuts'\n",
      " 'Healthy Meals']\n"
     ]
    }
   ],
   "source": [
    "# Filter rows where Category is still missing\n",
    "missing_category_rows = sales_data[sales_data['Category'].isnull()]\n",
    "\n",
    "# Check which Sub-Categories that has missing values\n",
    "remaining_subcategories = missing_category_rows['Sub-Category'].unique()\n",
    "\n",
    "print(\"Sub-Categories that still have missing Category values:\")\n",
    "print(remaining_subcategories)\n"
   ]
  },
  {
   "cell_type": "code",
   "execution_count": 26,
   "metadata": {},
   "outputs": [
    {
     "name": "stdout",
     "output_type": "stream",
     "text": [
      "Missing Category values AFTER manual fix: 0\n"
     ]
    }
   ],
   "source": [
    "# Manually filling known logical exceptions (which auto-mapping missed)\n",
    "fix_map = {\n",
    "    'Seasoning Mixes': 'Food - Spices',\n",
    "    'Dog Supplies': 'Pets',\n",
    "    'Audio Recording Devices': 'Audio',\n",
    "    'Seeds & Nuts': 'Food - Snacks',\n",
    "    'Healthy Meals': 'Food - Meals'\n",
    "}\n",
    "\n",
    "sales_data['Category'] = sales_data.apply(\n",
    "    lambda row: fix_map[row['Sub-Category']] \n",
    "    if pd.isna(row['Category']) and row['Sub-Category'] in fix_map \n",
    "    else row['Category'],\n",
    "    axis=1\n",
    ")\n",
    "\n",
    "print(\"Missing Category values AFTER manual fix:\", sales_data['Category'].isnull().sum())"
   ]
  },
  {
   "cell_type": "code",
   "execution_count": 27,
   "metadata": {},
   "outputs": [
    {
     "name": "stdout",
     "output_type": "stream",
     "text": [
      "Remaining missing values in Discount: 0\n"
     ]
    }
   ],
   "source": [
    "# Fills missing discount values with 0.0\n",
    "sales_data['Discount'] = sales_data['Discount'].fillna(0.0)\n",
    "\n",
    "print(\"Remaining missing values in Discount:\", sales_data['Discount'].isnull().sum())\n"
   ]
  },
  {
   "cell_type": "code",
   "execution_count": 30,
   "metadata": {},
   "outputs": [],
   "source": [
    "sales_data.to_csv(\"Ace_Superstore_Data1.csv\", index=False)"
   ]
  }
 ],
 "metadata": {
  "kernelspec": {
   "display_name": "Python 3",
   "language": "python",
   "name": "python3"
  },
  "language_info": {
   "codemirror_mode": {
    "name": "ipython",
    "version": 3
   },
   "file_extension": ".py",
   "mimetype": "text/x-python",
   "name": "python",
   "nbconvert_exporter": "python",
   "pygments_lexer": "ipython3",
   "version": "3.11.9"
  }
 },
 "nbformat": 4,
 "nbformat_minor": 2
}
